{
 "cells": [
  {
   "cell_type": "markdown",
   "metadata": {},
   "source": [
    "# Fashion-MNIST dataset practice"
   ]
  },
  {
   "cell_type": "markdown",
   "metadata": {},
   "source": [
    "The Fashion-MNIST dataset is comprised of a training set of 60000 images and a test set of 10000 images. Each image represent a 28x28 image of an article of clothing belonging to 1 out of 10 different types. The images are labeled with a number from 0 to 9 to represent the category they belong to.\n",
    "\n",
    "The classes are as follows:\n",
    "\n",
    "**0** | T-shirt/top  \n",
    "**1** | Trouser  \n",
    "**2** | Pullover  \n",
    "**3** |\tDress  \n",
    "**4** |\tCoat  \n",
    "**5** |\tSandal  \n",
    "**6** |\tShirt  \n",
    "**7** |\tSneaker  \n",
    "**8** |\tBag  \n",
    "**9** |\tAnkle boot"
   ]
  },
  {
   "cell_type": "markdown",
   "metadata": {},
   "source": [
    "This notebook represents nothing more than a way for me to practice image recognition with neural networks. There will surely be a lot of gross mistakes and chances for improvement due to my inexperience with the subject. You, dear reader, are very welcome to contact me and let me know how to improve this, I'd sincerely appreciate it."
   ]
  },
  {
   "cell_type": "code",
   "execution_count": 9,
   "metadata": {},
   "outputs": [],
   "source": [
    "# Importing keras and the fashion_mnist dataset\n",
    "import keras\n",
    "from keras.datasets import fashion_mnist\n",
    "\n",
    "# Importing matplotlib to show an image example and for metrics plotting\n",
    "import matplotlib.pyplot as plt"
   ]
  },
  {
   "cell_type": "markdown",
   "metadata": {},
   "source": [
    "The dataset is already divided into two tuples, one for the train sets and the other for the test set. Each of those tuples is further divided into pixel data and labels."
   ]
  },
  {
   "cell_type": "code",
   "execution_count": 10,
   "metadata": {},
   "outputs": [],
   "source": [
    "(x_train, y_train), (x_test, y_test) = fashion_mnist.load_data()"
   ]
  },
  {
   "cell_type": "markdown",
   "metadata": {},
   "source": [
    "This is how one of the 28x28 images looks."
   ]
  },
  {
   "cell_type": "code",
   "execution_count": 11,
   "metadata": {},
   "outputs": [
    {
     "data": {
      "text/plain": [
       "<matplotlib.image.AxesImage at 0x7f4f7feb5198>"
      ]
     },
     "execution_count": 11,
     "metadata": {},
     "output_type": "execute_result"
    },
    {
     "data": {
      "image/png": "[encoded data removed]",
      "text/plain": [
       "<Figure size 432x288 with 1 Axes>"
      ]
     },
     "metadata": {
      "needs_background": "light"
     },
     "output_type": "display_data"
    }
   ],
   "source": [
    "plt.imshow(x_train[44], cmap=\"Greys\")"
   ]
  },
  {
   "cell_type": "code",
   "execution_count": null,
   "metadata": {},
   "outputs": [],
   "source": []
  }
 ],
 "metadata": {
  "kernelspec": {
   "display_name": "Python 3",
   "language": "python",
   "name": "python3"
  },
  "language_info": {
   "codemirror_mode": {
    "name": "ipython",
    "version": 3
   },
   "file_extension": ".py",
   "mimetype": "text/x-python",
   "name": "python",
   "nbconvert_exporter": "python",
   "pygments_lexer": "ipython3",
   "version": "3.6.9"
  }
 },
 "nbformat": 4,
 "nbformat_minor": 2
}
